{
 "cells": [
  {
   "cell_type": "markdown",
   "metadata": {},
   "source": [
    "### Exercise 1: Collect data related to meteor showers\n",
    "\n",
    "<font size=\"3\"> **Unit 4 of 10** </font>\n",
    "\n",
    "<font size=\"2\">Step by step process of **Exercise 1** can be found here: https://learn.microsoft.com/en-us/training/modules/predict-meteor-showers-using-python/4-collect-data</font>\n",
    "\n",
    "-----\n",
    "\n",
    "<font size=\"3\"> **References/Vocabs:** </font>\n",
    "<font size=\"2\"><p>\n",
    "Now it's time to get data ready to create your prediction model. Remember, ideally a meteor expert would guide this step. But even without an expert, we can make a best guess at what data would help us identify the best date to see a meteor shower.\n",
    "\n",
    "Before we gather data, it's important to identify the kind of data that we want to find. We know a few things:\n",
    "\n",
    "- Meteoroids that melt off of comets typically cause meteor showers.\n",
    "- Comets have an orbit around the sun that's observable and predictable.\n",
    "- A bright Moon makes a meteor shower harder to see.\n",
    "- The orbit and spin of Earth affects where a meteor shower can be seen from Earth.\n",
    "\n",
    "<font size=\"3\"> **> Select comets to focus on** </font>\n",
    "<font size=\"2\"><p>\n",
    "Although meteoroids can come from comets, asteroids, moons, and planets, this module focuses on meteoroids that come from popular comets. We often use four comets *__(Comet Halley, Comet Swift-Tuttle, Comet Thatcher, Comet Tempel-Tuttle)__* to predict when and where meteor showers will be visible.  </p></font>\n",
    "\n",
    "<font size=\"3\"> **> Data files** </font>\n",
    "<font size=\"2\"><p>\n",
    "We've started to gather some data for the example in this module. On your own, try to find other data that you can use to explore the predictions of meteor showers. For example, you can create new data files containing data for the current year or future years.\n",
    "\n",
    "Here's the data we've already gathered:\n",
    "\n",
    "- **moonphases.csv** - This file contains the Moon phases for every day of 2020. The missing data will be added in the next unit. (Data acquired from timeanddate.com) <p>\n",
    "- **meteorshowers.csv** - This file contains data for each of the five meteor showers that we described earlier. Data includes their preferred viewing month, the months when they're visible, and the preferred hemisphere for viewing. (Data acquired from NASA) <p>\n",
    "- **constellations.csv** - This file contains data for the four constellations that are radiants for the five meteor showers. Data includes the latitudes for which they're visible and the month for the best viewing. (Data acquired from Wikipedia.)<p>\n",
    "- **cities.csv** - This file contains a list of country/regional capitals/major cities and their associated latitudes. (Data acquired from Wikipedia)  </p></font>\n",
    "\n",
    "<font size=\"3\"> **> Other data to consider** </font>\n",
    "<font size=\"2\"><p>\n",
    "This module focuses on the four data files. But you **_can also gather other types of data that might affect the likelihood of viewing a meteor shower:_**\n",
    "\n",
    "- Weather\n",
    "- Other comets or known meteors\n",
    "- City light pollution\n",
    " </p></font>"
   ]
  },
  {
   "cell_type": "markdown",
   "metadata": {},
   "source": [
    "### Exercise 2: Cleanse meteor data\n",
    "\n",
    "<font size=\"3\"> **Unit 5 of 10** </font>\n",
    "\n",
    "<font size=\"2\">Step by step process of **Exercise 2** can be found here: https://learn.microsoft.com/en-us/training/modules/predict-meteor-showers-using-python/5-prep-data</font>\n",
    "\n",
    "-----"
   ]
  },
  {
   "cell_type": "markdown",
   "metadata": {},
   "source": [
    "#### Exercise 2.1"
   ]
  },
  {
   "cell_type": "code",
   "execution_count": 63,
   "metadata": {},
   "outputs": [],
   "source": [
    "import numpy as np\n",
    "import pandas as pd\n",
    "\n",
    "meteor_showers = pd.read_csv('data/meteorshowers.csv')\n",
    "moon_phases = pd.read_csv('data/moonphases.csv')\n",
    "constellations = pd.read_csv('data/constellations.csv')\n",
    "cities = pd.read_csv('data/cities.csv')"
   ]
  },
  {
   "cell_type": "markdown",
   "metadata": {},
   "source": [
    "#### Exercise 2.2"
   ]
  },
  {
   "cell_type": "code",
   "execution_count": 64,
   "metadata": {},
   "outputs": [
    {
     "name": "stdout",
     "output_type": "stream",
     "text": [
      "<class 'pandas.core.frame.DataFrame'>\n",
      "RangeIndex: 5 entries, 0 to 4\n",
      "Data columns (total 9 columns):\n",
      " #   Column                Non-Null Count  Dtype \n",
      "---  ------                --------------  ----- \n",
      " 0   Name                  5 non-null      object\n",
      " 1   Radiant               5 non-null      object\n",
      " 2   Best_Month            5 non-null      object\n",
      " 3   Start_Month           5 non-null      object\n",
      " 4   Start_Day             5 non-null      int64 \n",
      " 5   End_Month             5 non-null      object\n",
      " 6   End_Day               5 non-null      int64 \n",
      " 7   Hemisphere            5 non-null      object\n",
      " 8   Preferred_Hemisphere  5 non-null      object\n",
      "dtypes: int64(2), object(7)\n",
      "memory usage: 492.0+ bytes\n"
     ]
    },
    {
     "data": {
      "text/html": [
       "<div>\n",
       "<style scoped>\n",
       "    .dataframe tbody tr th:only-of-type {\n",
       "        vertical-align: middle;\n",
       "    }\n",
       "\n",
       "    .dataframe tbody tr th {\n",
       "        vertical-align: top;\n",
       "    }\n",
       "\n",
       "    .dataframe thead th {\n",
       "        text-align: right;\n",
       "    }\n",
       "</style>\n",
       "<table border=\"1\" class=\"dataframe\">\n",
       "  <thead>\n",
       "    <tr style=\"text-align: right;\">\n",
       "      <th></th>\n",
       "      <th>Name</th>\n",
       "      <th>Radiant</th>\n",
       "      <th>Best_Month</th>\n",
       "      <th>Start_Month</th>\n",
       "      <th>Start_Day</th>\n",
       "      <th>End_Month</th>\n",
       "      <th>End_Day</th>\n",
       "      <th>Hemisphere</th>\n",
       "      <th>Preferred_Hemisphere</th>\n",
       "    </tr>\n",
       "  </thead>\n",
       "  <tbody>\n",
       "    <tr>\n",
       "      <th>0</th>\n",
       "      <td>Lyrids</td>\n",
       "      <td>Lyra</td>\n",
       "      <td>april</td>\n",
       "      <td>april</td>\n",
       "      <td>21</td>\n",
       "      <td>april</td>\n",
       "      <td>22</td>\n",
       "      <td>Northern</td>\n",
       "      <td>Northern</td>\n",
       "    </tr>\n",
       "    <tr>\n",
       "      <th>1</th>\n",
       "      <td>Eta Aquarids</td>\n",
       "      <td>Aquarius</td>\n",
       "      <td>may</td>\n",
       "      <td>april</td>\n",
       "      <td>19</td>\n",
       "      <td>may</td>\n",
       "      <td>28</td>\n",
       "      <td>Northern, Southern</td>\n",
       "      <td>Southern</td>\n",
       "    </tr>\n",
       "    <tr>\n",
       "      <th>2</th>\n",
       "      <td>Orionids</td>\n",
       "      <td>Orion</td>\n",
       "      <td>october</td>\n",
       "      <td>october</td>\n",
       "      <td>2</td>\n",
       "      <td>november</td>\n",
       "      <td>7</td>\n",
       "      <td>Northern, Southern</td>\n",
       "      <td>Northern, Southern</td>\n",
       "    </tr>\n",
       "    <tr>\n",
       "      <th>3</th>\n",
       "      <td>Perseids</td>\n",
       "      <td>Perseus</td>\n",
       "      <td>august</td>\n",
       "      <td>july</td>\n",
       "      <td>14</td>\n",
       "      <td>august</td>\n",
       "      <td>24</td>\n",
       "      <td>Northern</td>\n",
       "      <td>Northern</td>\n",
       "    </tr>\n",
       "    <tr>\n",
       "      <th>4</th>\n",
       "      <td>Leonids</td>\n",
       "      <td>Leo</td>\n",
       "      <td>november</td>\n",
       "      <td>november</td>\n",
       "      <td>6</td>\n",
       "      <td>november</td>\n",
       "      <td>30</td>\n",
       "      <td>Northern, Southern</td>\n",
       "      <td>Northern, Southern</td>\n",
       "    </tr>\n",
       "  </tbody>\n",
       "</table>\n",
       "</div>"
      ],
      "text/plain": [
       "           Name   Radiant Best_Month Start_Month  Start_Day End_Month  \\\n",
       "0        Lyrids      Lyra      april       april         21     april   \n",
       "1  Eta Aquarids  Aquarius        may       april         19       may   \n",
       "2      Orionids     Orion    october     october          2  november   \n",
       "3      Perseids   Perseus     august        july         14    august   \n",
       "4       Leonids       Leo   november    november          6  november   \n",
       "\n",
       "   End_Day          Hemisphere Preferred_Hemisphere  \n",
       "0       22            Northern             Northern  \n",
       "1       28  Northern, Southern             Southern  \n",
       "2        7  Northern, Southern   Northern, Southern  \n",
       "3       24            Northern             Northern  \n",
       "4       30  Northern, Southern   Northern, Southern  "
      ]
     },
     "execution_count": 64,
     "metadata": {},
     "output_type": "execute_result"
    }
   ],
   "source": [
    "import numpy as np\n",
    "import pandas as pd\n",
    "\n",
    "meteor_showers = pd.read_csv('data/meteorshowers.csv')\n",
    "moon_phases = pd.read_csv('data/moonphases.csv')\n",
    "constellations = pd.read_csv('data/constellations.csv')\n",
    "cities = pd.read_csv('data/cities.csv')\n",
    "\n",
    "meteor_showers.info()\n",
    "meteor_showers.head()"
   ]
  },
  {
   "cell_type": "markdown",
   "metadata": {},
   "source": [
    "#### Exercise 2.3"
   ]
  },
  {
   "cell_type": "code",
   "execution_count": 65,
   "metadata": {},
   "outputs": [
    {
     "name": "stdout",
     "output_type": "stream",
     "text": [
      "<class 'pandas.core.frame.DataFrame'>\n",
      "RangeIndex: 366 entries, 0 to 365\n",
      "Data columns (total 4 columns):\n",
      " #   Column         Non-Null Count  Dtype \n",
      "---  ------         --------------  ----- \n",
      " 0   Month          366 non-null    object\n",
      " 1   Day            366 non-null    int64 \n",
      " 2   Moon_Phase     50 non-null     object\n",
      " 3   Special_Event  10 non-null     object\n",
      "dtypes: int64(1), object(3)\n",
      "memory usage: 11.6+ KB\n"
     ]
    },
    {
     "data": {
      "text/html": [
       "<div>\n",
       "<style scoped>\n",
       "    .dataframe tbody tr th:only-of-type {\n",
       "        vertical-align: middle;\n",
       "    }\n",
       "\n",
       "    .dataframe tbody tr th {\n",
       "        vertical-align: top;\n",
       "    }\n",
       "\n",
       "    .dataframe thead th {\n",
       "        text-align: right;\n",
       "    }\n",
       "</style>\n",
       "<table border=\"1\" class=\"dataframe\">\n",
       "  <thead>\n",
       "    <tr style=\"text-align: right;\">\n",
       "      <th></th>\n",
       "      <th>Month</th>\n",
       "      <th>Day</th>\n",
       "      <th>Moon_Phase</th>\n",
       "      <th>Special_Event</th>\n",
       "    </tr>\n",
       "  </thead>\n",
       "  <tbody>\n",
       "    <tr>\n",
       "      <th>0</th>\n",
       "      <td>january</td>\n",
       "      <td>1</td>\n",
       "      <td>NaN</td>\n",
       "      <td>NaN</td>\n",
       "    </tr>\n",
       "    <tr>\n",
       "      <th>1</th>\n",
       "      <td>january</td>\n",
       "      <td>2</td>\n",
       "      <td>first quarter</td>\n",
       "      <td>NaN</td>\n",
       "    </tr>\n",
       "    <tr>\n",
       "      <th>2</th>\n",
       "      <td>january</td>\n",
       "      <td>3</td>\n",
       "      <td>NaN</td>\n",
       "      <td>NaN</td>\n",
       "    </tr>\n",
       "    <tr>\n",
       "      <th>3</th>\n",
       "      <td>january</td>\n",
       "      <td>4</td>\n",
       "      <td>NaN</td>\n",
       "      <td>NaN</td>\n",
       "    </tr>\n",
       "    <tr>\n",
       "      <th>4</th>\n",
       "      <td>january</td>\n",
       "      <td>5</td>\n",
       "      <td>NaN</td>\n",
       "      <td>NaN</td>\n",
       "    </tr>\n",
       "  </tbody>\n",
       "</table>\n",
       "</div>"
      ],
      "text/plain": [
       "     Month  Day     Moon_Phase Special_Event\n",
       "0  january    1            NaN           NaN\n",
       "1  january    2  first quarter           NaN\n",
       "2  january    3            NaN           NaN\n",
       "3  january    4            NaN           NaN\n",
       "4  january    5            NaN           NaN"
      ]
     },
     "execution_count": 65,
     "metadata": {},
     "output_type": "execute_result"
    }
   ],
   "source": [
    "import numpy as np\n",
    "import pandas as pd\n",
    "\n",
    "meteor_showers = pd.read_csv('data/meteorshowers.csv')\n",
    "moon_phases = pd.read_csv('data/moonphases.csv')\n",
    "constellations = pd.read_csv('data/constellations.csv')\n",
    "cities = pd.read_csv('data/cities.csv')\n",
    "\n",
    "moon_phases.info()\n",
    "moon_phases.head()"
   ]
  },
  {
   "cell_type": "markdown",
   "metadata": {},
   "source": [
    "#### Exercise 2.4"
   ]
  },
  {
   "cell_type": "code",
   "execution_count": 66,
   "metadata": {},
   "outputs": [
    {
     "name": "stdout",
     "output_type": "stream",
     "text": [
      "<class 'pandas.core.frame.DataFrame'>\n",
      "RangeIndex: 5 entries, 0 to 4\n",
      "Data columns (total 6 columns):\n",
      " #   Column          Non-Null Count  Dtype \n",
      "---  ------          --------------  ----- \n",
      " 0   Constellation   5 non-null      object\n",
      " 1   Best_Month      5 non-null      object\n",
      " 2   Latitude_Start  5 non-null      int64 \n",
      " 3   Latitude_End    5 non-null      int64 \n",
      " 4   Best_Time       5 non-null      object\n",
      " 5   Hemisphere      5 non-null      object\n",
      "dtypes: int64(2), object(4)\n",
      "memory usage: 372.0+ bytes\n"
     ]
    },
    {
     "data": {
      "text/html": [
       "<div>\n",
       "<style scoped>\n",
       "    .dataframe tbody tr th:only-of-type {\n",
       "        vertical-align: middle;\n",
       "    }\n",
       "\n",
       "    .dataframe tbody tr th {\n",
       "        vertical-align: top;\n",
       "    }\n",
       "\n",
       "    .dataframe thead th {\n",
       "        text-align: right;\n",
       "    }\n",
       "</style>\n",
       "<table border=\"1\" class=\"dataframe\">\n",
       "  <thead>\n",
       "    <tr style=\"text-align: right;\">\n",
       "      <th></th>\n",
       "      <th>Constellation</th>\n",
       "      <th>Best_Month</th>\n",
       "      <th>Latitude_Start</th>\n",
       "      <th>Latitude_End</th>\n",
       "      <th>Best_Time</th>\n",
       "      <th>Hemisphere</th>\n",
       "    </tr>\n",
       "  </thead>\n",
       "  <tbody>\n",
       "    <tr>\n",
       "      <th>0</th>\n",
       "      <td>Lyra</td>\n",
       "      <td>august</td>\n",
       "      <td>90</td>\n",
       "      <td>-40</td>\n",
       "      <td>21:00</td>\n",
       "      <td>Northern</td>\n",
       "    </tr>\n",
       "    <tr>\n",
       "      <th>1</th>\n",
       "      <td>Aquarius</td>\n",
       "      <td>october</td>\n",
       "      <td>65</td>\n",
       "      <td>-90</td>\n",
       "      <td>21:00</td>\n",
       "      <td>Southern</td>\n",
       "    </tr>\n",
       "    <tr>\n",
       "      <th>2</th>\n",
       "      <td>Orion</td>\n",
       "      <td>january</td>\n",
       "      <td>85</td>\n",
       "      <td>-75</td>\n",
       "      <td>21:00</td>\n",
       "      <td>Northern</td>\n",
       "    </tr>\n",
       "    <tr>\n",
       "      <th>3</th>\n",
       "      <td>Perseus</td>\n",
       "      <td>december</td>\n",
       "      <td>90</td>\n",
       "      <td>-35</td>\n",
       "      <td>21:00</td>\n",
       "      <td>Northern</td>\n",
       "    </tr>\n",
       "    <tr>\n",
       "      <th>4</th>\n",
       "      <td>Leo</td>\n",
       "      <td>april</td>\n",
       "      <td>90</td>\n",
       "      <td>65</td>\n",
       "      <td>21:00</td>\n",
       "      <td>Northern</td>\n",
       "    </tr>\n",
       "  </tbody>\n",
       "</table>\n",
       "</div>"
      ],
      "text/plain": [
       "  Constellation Best_Month  Latitude_Start  Latitude_End Best_Time Hemisphere\n",
       "0          Lyra     august              90           -40     21:00   Northern\n",
       "1      Aquarius    october              65           -90     21:00   Southern\n",
       "2         Orion    january              85           -75     21:00   Northern\n",
       "3       Perseus   december              90           -35     21:00   Northern\n",
       "4           Leo      april              90            65     21:00   Northern"
      ]
     },
     "execution_count": 66,
     "metadata": {},
     "output_type": "execute_result"
    }
   ],
   "source": [
    "import numpy as np\n",
    "import pandas as pd\n",
    "\n",
    "meteor_showers = pd.read_csv('data/meteorshowers.csv')\n",
    "moon_phases = pd.read_csv('data/moonphases.csv')\n",
    "constellations = pd.read_csv('data/constellations.csv')\n",
    "cities = pd.read_csv('data/cities.csv')\n",
    "\n",
    "constellations.info()\n",
    "constellations.head()"
   ]
  },
  {
   "cell_type": "markdown",
   "metadata": {},
   "source": [
    "#### Exercise 2.5"
   ]
  },
  {
   "cell_type": "code",
   "execution_count": 67,
   "metadata": {},
   "outputs": [
    {
     "name": "stdout",
     "output_type": "stream",
     "text": [
      "<class 'pandas.core.frame.DataFrame'>\n",
      "RangeIndex: 256 entries, 0 to 255\n",
      "Data columns (total 3 columns):\n",
      " #   Column    Non-Null Count  Dtype  \n",
      "---  ------    --------------  -----  \n",
      " 0   City      256 non-null    object \n",
      " 1   Latitude  256 non-null    float64\n",
      " 2   Country   256 non-null    object \n",
      "dtypes: float64(1), object(2)\n",
      "memory usage: 6.1+ KB\n"
     ]
    },
    {
     "data": {
      "text/html": [
       "<div>\n",
       "<style scoped>\n",
       "    .dataframe tbody tr th:only-of-type {\n",
       "        vertical-align: middle;\n",
       "    }\n",
       "\n",
       "    .dataframe tbody tr th {\n",
       "        vertical-align: top;\n",
       "    }\n",
       "\n",
       "    .dataframe thead th {\n",
       "        text-align: right;\n",
       "    }\n",
       "</style>\n",
       "<table border=\"1\" class=\"dataframe\">\n",
       "  <thead>\n",
       "    <tr style=\"text-align: right;\">\n",
       "      <th></th>\n",
       "      <th>City</th>\n",
       "      <th>Latitude</th>\n",
       "      <th>Country</th>\n",
       "    </tr>\n",
       "  </thead>\n",
       "  <tbody>\n",
       "    <tr>\n",
       "      <th>0</th>\n",
       "      <td>Abu Dhabi</td>\n",
       "      <td>24.47</td>\n",
       "      <td>United Arab Emirates</td>\n",
       "    </tr>\n",
       "    <tr>\n",
       "      <th>1</th>\n",
       "      <td>Abuja</td>\n",
       "      <td>9.07</td>\n",
       "      <td>Nigeria</td>\n",
       "    </tr>\n",
       "    <tr>\n",
       "      <th>2</th>\n",
       "      <td>Accra</td>\n",
       "      <td>5.55</td>\n",
       "      <td>Ghana</td>\n",
       "    </tr>\n",
       "    <tr>\n",
       "      <th>3</th>\n",
       "      <td>Adamstown</td>\n",
       "      <td>-25.07</td>\n",
       "      <td>Pitcairn Islands</td>\n",
       "    </tr>\n",
       "    <tr>\n",
       "      <th>4</th>\n",
       "      <td>Addis Ababa</td>\n",
       "      <td>9.02</td>\n",
       "      <td>Ethiopia</td>\n",
       "    </tr>\n",
       "  </tbody>\n",
       "</table>\n",
       "</div>"
      ],
      "text/plain": [
       "          City  Latitude               Country\n",
       "0    Abu Dhabi     24.47  United Arab Emirates\n",
       "1        Abuja      9.07               Nigeria\n",
       "2        Accra      5.55                 Ghana\n",
       "3    Adamstown    -25.07      Pitcairn Islands\n",
       "4  Addis Ababa      9.02              Ethiopia"
      ]
     },
     "execution_count": 67,
     "metadata": {},
     "output_type": "execute_result"
    }
   ],
   "source": [
    "import numpy as np\n",
    "import pandas as pd\n",
    "\n",
    "meteor_showers = pd.read_csv('data/meteorshowers.csv')\n",
    "moon_phases = pd.read_csv('data/moonphases.csv')\n",
    "constellations = pd.read_csv('data/constellations.csv')\n",
    "cities = pd.read_csv('data/cities.csv')\n",
    "\n",
    "cities.info()\n",
    "cities.head()"
   ]
  },
  {
   "cell_type": "markdown",
   "metadata": {},
   "source": [
    "#### Exercise 2.6\n",
    "\n",
    "<font size=\"3\"> **Convert to numbers** </font>\n",
    "<font size=\"2\"><p>\n",
    "We can see from the calls to **_head()_** *that a lot of information is written in words (strings) instead of numbers (integers).* Some data makes sense as strings, like city names or meteor shower names. But other data makes more sense as integers, like months or Moon phases.\n",
    "\n",
    "You can quickly convert the month columns to numbers:\n",
    "\n",
    "1. Create a map of months to numbers. We can see from the output of head() that the months are all lowercase.\n",
    "2. Map the map of months to the columns that have months in them.\n",
    "3. Save the result to the DataFrame.\n",
    "\n",
    "</p></font>"
   ]
  },
  {
   "cell_type": "code",
   "execution_count": 68,
   "metadata": {},
   "outputs": [
    {
     "name": "stdout",
     "output_type": "stream",
     "text": [
      "<class 'pandas.core.frame.DataFrame'>\n",
      "RangeIndex: 5 entries, 0 to 4\n",
      "Data columns (total 9 columns):\n",
      " #   Column                Non-Null Count  Dtype \n",
      "---  ------                --------------  ----- \n",
      " 0   Name                  5 non-null      object\n",
      " 1   Radiant               5 non-null      object\n",
      " 2   Best_Month            5 non-null      int64 \n",
      " 3   Start_Month           5 non-null      int64 \n",
      " 4   Start_Day             5 non-null      int64 \n",
      " 5   End_Month             5 non-null      int64 \n",
      " 6   End_Day               5 non-null      int64 \n",
      " 7   Hemisphere            5 non-null      object\n",
      " 8   Preferred_Hemisphere  5 non-null      object\n",
      "dtypes: int64(5), object(4)\n",
      "memory usage: 492.0+ bytes\n"
     ]
    },
    {
     "data": {
      "text/html": [
       "<div>\n",
       "<style scoped>\n",
       "    .dataframe tbody tr th:only-of-type {\n",
       "        vertical-align: middle;\n",
       "    }\n",
       "\n",
       "    .dataframe tbody tr th {\n",
       "        vertical-align: top;\n",
       "    }\n",
       "\n",
       "    .dataframe thead th {\n",
       "        text-align: right;\n",
       "    }\n",
       "</style>\n",
       "<table border=\"1\" class=\"dataframe\">\n",
       "  <thead>\n",
       "    <tr style=\"text-align: right;\">\n",
       "      <th></th>\n",
       "      <th>Name</th>\n",
       "      <th>Radiant</th>\n",
       "      <th>Best_Month</th>\n",
       "      <th>Start_Month</th>\n",
       "      <th>Start_Day</th>\n",
       "      <th>End_Month</th>\n",
       "      <th>End_Day</th>\n",
       "      <th>Hemisphere</th>\n",
       "      <th>Preferred_Hemisphere</th>\n",
       "    </tr>\n",
       "  </thead>\n",
       "  <tbody>\n",
       "    <tr>\n",
       "      <th>0</th>\n",
       "      <td>Lyrids</td>\n",
       "      <td>Lyra</td>\n",
       "      <td>4</td>\n",
       "      <td>4</td>\n",
       "      <td>21</td>\n",
       "      <td>4</td>\n",
       "      <td>22</td>\n",
       "      <td>Northern</td>\n",
       "      <td>Northern</td>\n",
       "    </tr>\n",
       "    <tr>\n",
       "      <th>1</th>\n",
       "      <td>Eta Aquarids</td>\n",
       "      <td>Aquarius</td>\n",
       "      <td>5</td>\n",
       "      <td>4</td>\n",
       "      <td>19</td>\n",
       "      <td>5</td>\n",
       "      <td>28</td>\n",
       "      <td>Northern, Southern</td>\n",
       "      <td>Southern</td>\n",
       "    </tr>\n",
       "    <tr>\n",
       "      <th>2</th>\n",
       "      <td>Orionids</td>\n",
       "      <td>Orion</td>\n",
       "      <td>10</td>\n",
       "      <td>10</td>\n",
       "      <td>2</td>\n",
       "      <td>11</td>\n",
       "      <td>7</td>\n",
       "      <td>Northern, Southern</td>\n",
       "      <td>Northern, Southern</td>\n",
       "    </tr>\n",
       "    <tr>\n",
       "      <th>3</th>\n",
       "      <td>Perseids</td>\n",
       "      <td>Perseus</td>\n",
       "      <td>8</td>\n",
       "      <td>7</td>\n",
       "      <td>14</td>\n",
       "      <td>8</td>\n",
       "      <td>24</td>\n",
       "      <td>Northern</td>\n",
       "      <td>Northern</td>\n",
       "    </tr>\n",
       "    <tr>\n",
       "      <th>4</th>\n",
       "      <td>Leonids</td>\n",
       "      <td>Leo</td>\n",
       "      <td>11</td>\n",
       "      <td>11</td>\n",
       "      <td>6</td>\n",
       "      <td>11</td>\n",
       "      <td>30</td>\n",
       "      <td>Northern, Southern</td>\n",
       "      <td>Northern, Southern</td>\n",
       "    </tr>\n",
       "  </tbody>\n",
       "</table>\n",
       "</div>"
      ],
      "text/plain": [
       "           Name   Radiant  Best_Month  Start_Month  Start_Day  End_Month  \\\n",
       "0        Lyrids      Lyra           4            4         21          4   \n",
       "1  Eta Aquarids  Aquarius           5            4         19          5   \n",
       "2      Orionids     Orion          10           10          2         11   \n",
       "3      Perseids   Perseus           8            7         14          8   \n",
       "4       Leonids       Leo          11           11          6         11   \n",
       "\n",
       "   End_Day          Hemisphere Preferred_Hemisphere  \n",
       "0       22            Northern             Northern  \n",
       "1       28  Northern, Southern             Southern  \n",
       "2        7  Northern, Southern   Northern, Southern  \n",
       "3       24            Northern             Northern  \n",
       "4       30  Northern, Southern   Northern, Southern  "
      ]
     },
     "execution_count": 68,
     "metadata": {},
     "output_type": "execute_result"
    }
   ],
   "source": [
    "import numpy as np\n",
    "import pandas as pd\n",
    "\n",
    "meteor_showers = pd.read_csv('data/meteorshowers.csv')\n",
    "moon_phases = pd.read_csv('data/moonphases.csv')\n",
    "constellations = pd.read_csv('data/constellations.csv')\n",
    "cities = pd.read_csv('data/cities.csv')\n",
    "\n",
    "months = {'january':1, 'february':2, 'march':3, 'april':4, 'may':5, 'june':6, 'july':7, 'august':8, 'september':9, 'october':10, 'november':11, 'december':12}\n",
    "meteor_showers.Best_Month = meteor_showers.Best_Month.map(months)\n",
    "meteor_showers.Start_Month = meteor_showers.Start_Month.map(months)\n",
    "meteor_showers.End_Month = meteor_showers.End_Month.map(months)\n",
    "moon_phases.Month = moon_phases.Month.map(months)\n",
    "constellations.Best_Month = constellations.Best_Month.map(months)\n",
    "\n",
    "meteor_showers.info()\n",
    "meteor_showers.head()"
   ]
  },
  {
   "cell_type": "markdown",
   "metadata": {},
   "source": [
    "#### Exercise 2.7\n",
    "\n",
    "<font size=\"2\"> Before you continue, *__convert months and days in the meteor_showers DataFrame to a type called datetime__*, which tracks dates.\n",
    "\n",
    "These columns will contain a month and day in 2020: </font>"
   ]
  },
  {
   "cell_type": "code",
   "execution_count": 69,
   "metadata": {},
   "outputs": [
    {
     "data": {
      "text/html": [
       "<div>\n",
       "<style scoped>\n",
       "    .dataframe tbody tr th:only-of-type {\n",
       "        vertical-align: middle;\n",
       "    }\n",
       "\n",
       "    .dataframe tbody tr th {\n",
       "        vertical-align: top;\n",
       "    }\n",
       "\n",
       "    .dataframe thead th {\n",
       "        text-align: right;\n",
       "    }\n",
       "</style>\n",
       "<table border=\"1\" class=\"dataframe\">\n",
       "  <thead>\n",
       "    <tr style=\"text-align: right;\">\n",
       "      <th></th>\n",
       "      <th>Name</th>\n",
       "      <th>Radiant</th>\n",
       "      <th>Best_Month</th>\n",
       "      <th>Start_Month</th>\n",
       "      <th>Start_Day</th>\n",
       "      <th>End_Month</th>\n",
       "      <th>End_Day</th>\n",
       "      <th>Hemisphere</th>\n",
       "      <th>Preferred_Hemisphere</th>\n",
       "      <th>Start Date</th>\n",
       "      <th>End Date</th>\n",
       "    </tr>\n",
       "  </thead>\n",
       "  <tbody>\n",
       "    <tr>\n",
       "      <th>0</th>\n",
       "      <td>Lyrids</td>\n",
       "      <td>Lyra</td>\n",
       "      <td>4</td>\n",
       "      <td>4</td>\n",
       "      <td>21</td>\n",
       "      <td>4</td>\n",
       "      <td>22</td>\n",
       "      <td>Northern</td>\n",
       "      <td>Northern</td>\n",
       "      <td>2020-04-21</td>\n",
       "      <td>2020-04-22</td>\n",
       "    </tr>\n",
       "    <tr>\n",
       "      <th>1</th>\n",
       "      <td>Eta Aquarids</td>\n",
       "      <td>Aquarius</td>\n",
       "      <td>5</td>\n",
       "      <td>4</td>\n",
       "      <td>19</td>\n",
       "      <td>5</td>\n",
       "      <td>28</td>\n",
       "      <td>Northern, Southern</td>\n",
       "      <td>Southern</td>\n",
       "      <td>2020-04-19</td>\n",
       "      <td>2020-05-28</td>\n",
       "    </tr>\n",
       "    <tr>\n",
       "      <th>2</th>\n",
       "      <td>Orionids</td>\n",
       "      <td>Orion</td>\n",
       "      <td>10</td>\n",
       "      <td>10</td>\n",
       "      <td>2</td>\n",
       "      <td>11</td>\n",
       "      <td>7</td>\n",
       "      <td>Northern, Southern</td>\n",
       "      <td>Northern, Southern</td>\n",
       "      <td>2020-10-02</td>\n",
       "      <td>2020-11-07</td>\n",
       "    </tr>\n",
       "    <tr>\n",
       "      <th>3</th>\n",
       "      <td>Perseids</td>\n",
       "      <td>Perseus</td>\n",
       "      <td>8</td>\n",
       "      <td>7</td>\n",
       "      <td>14</td>\n",
       "      <td>8</td>\n",
       "      <td>24</td>\n",
       "      <td>Northern</td>\n",
       "      <td>Northern</td>\n",
       "      <td>2020-07-14</td>\n",
       "      <td>2020-08-24</td>\n",
       "    </tr>\n",
       "    <tr>\n",
       "      <th>4</th>\n",
       "      <td>Leonids</td>\n",
       "      <td>Leo</td>\n",
       "      <td>11</td>\n",
       "      <td>11</td>\n",
       "      <td>6</td>\n",
       "      <td>11</td>\n",
       "      <td>30</td>\n",
       "      <td>Northern, Southern</td>\n",
       "      <td>Northern, Southern</td>\n",
       "      <td>2020-11-06</td>\n",
       "      <td>2020-11-30</td>\n",
       "    </tr>\n",
       "  </tbody>\n",
       "</table>\n",
       "</div>"
      ],
      "text/plain": [
       "           Name   Radiant  Best_Month  Start_Month  Start_Day  End_Month  \\\n",
       "0        Lyrids      Lyra           4            4         21          4   \n",
       "1  Eta Aquarids  Aquarius           5            4         19          5   \n",
       "2      Orionids     Orion          10           10          2         11   \n",
       "3      Perseids   Perseus           8            7         14          8   \n",
       "4       Leonids       Leo          11           11          6         11   \n",
       "\n",
       "   End_Day          Hemisphere Preferred_Hemisphere Start Date   End Date  \n",
       "0       22            Northern             Northern 2020-04-21 2020-04-22  \n",
       "1       28  Northern, Southern             Southern 2020-04-19 2020-05-28  \n",
       "2        7  Northern, Southern   Northern, Southern 2020-10-02 2020-11-07  \n",
       "3       24            Northern             Northern 2020-07-14 2020-08-24  \n",
       "4       30  Northern, Southern   Northern, Southern 2020-11-06 2020-11-30  "
      ]
     },
     "execution_count": 69,
     "metadata": {},
     "output_type": "execute_result"
    }
   ],
   "source": [
    "import numpy as np\n",
    "import pandas as pd\n",
    "\n",
    "meteor_showers = pd.read_csv('data/meteorshowers.csv')\n",
    "moon_phases = pd.read_csv('data/moonphases.csv')\n",
    "constellations = pd.read_csv('data/constellations.csv')\n",
    "cities = pd.read_csv('data/cities.csv')\n",
    "\n",
    "months = {'january':1, 'february':2, 'march':3, 'april':4, 'may':5, 'june':6, 'july':7, 'august':8, 'september':9, 'october':10, 'november':11, 'december':12}\n",
    "meteor_showers.Best_Month = meteor_showers.Best_Month.map(months)\n",
    "meteor_showers.Start_Month = meteor_showers.Start_Month.map(months)\n",
    "meteor_showers.End_Month = meteor_showers.End_Month.map(months)\n",
    "moon_phases.Month = moon_phases.Month.map(months)\n",
    "constellations.Best_Month = constellations.Best_Month.map(months)\n",
    "\n",
    "meteor_showers['Start Date'] = pd.to_datetime(2020 * 10000 + meteor_showers.Start_Month * 100 + meteor_showers.Start_Day, format = '%Y%m%d')\n",
    "meteor_showers['End Date'] = pd.to_datetime(2020 * 10000 + meteor_showers.End_Month * 100 + meteor_showers.End_Day, format = '%Y%m%d')\n",
    "\n",
    "meteor_showers.head()"
   ]
  },
  {
   "cell_type": "markdown",
   "metadata": {},
   "source": [
    "#### Exercise 2.8"
   ]
  },
  {
   "cell_type": "code",
   "execution_count": 70,
   "metadata": {},
   "outputs": [
    {
     "data": {
      "text/html": [
       "<div>\n",
       "<style scoped>\n",
       "    .dataframe tbody tr th:only-of-type {\n",
       "        vertical-align: middle;\n",
       "    }\n",
       "\n",
       "    .dataframe tbody tr th {\n",
       "        vertical-align: top;\n",
       "    }\n",
       "\n",
       "    .dataframe thead th {\n",
       "        text-align: right;\n",
       "    }\n",
       "</style>\n",
       "<table border=\"1\" class=\"dataframe\">\n",
       "  <thead>\n",
       "    <tr style=\"text-align: right;\">\n",
       "      <th></th>\n",
       "      <th>Month</th>\n",
       "      <th>Day</th>\n",
       "      <th>Moon_Phase</th>\n",
       "      <th>Special_Event</th>\n",
       "      <th>Date</th>\n",
       "    </tr>\n",
       "  </thead>\n",
       "  <tbody>\n",
       "    <tr>\n",
       "      <th>0</th>\n",
       "      <td>1</td>\n",
       "      <td>1</td>\n",
       "      <td>NaN</td>\n",
       "      <td>NaN</td>\n",
       "      <td>2020-01-01</td>\n",
       "    </tr>\n",
       "    <tr>\n",
       "      <th>1</th>\n",
       "      <td>1</td>\n",
       "      <td>2</td>\n",
       "      <td>first quarter</td>\n",
       "      <td>NaN</td>\n",
       "      <td>2020-01-02</td>\n",
       "    </tr>\n",
       "    <tr>\n",
       "      <th>2</th>\n",
       "      <td>1</td>\n",
       "      <td>3</td>\n",
       "      <td>NaN</td>\n",
       "      <td>NaN</td>\n",
       "      <td>2020-01-03</td>\n",
       "    </tr>\n",
       "    <tr>\n",
       "      <th>3</th>\n",
       "      <td>1</td>\n",
       "      <td>4</td>\n",
       "      <td>NaN</td>\n",
       "      <td>NaN</td>\n",
       "      <td>2020-01-04</td>\n",
       "    </tr>\n",
       "    <tr>\n",
       "      <th>4</th>\n",
       "      <td>1</td>\n",
       "      <td>5</td>\n",
       "      <td>NaN</td>\n",
       "      <td>NaN</td>\n",
       "      <td>2020-01-05</td>\n",
       "    </tr>\n",
       "  </tbody>\n",
       "</table>\n",
       "</div>"
      ],
      "text/plain": [
       "   Month  Day     Moon_Phase Special_Event       Date\n",
       "0      1    1            NaN           NaN 2020-01-01\n",
       "1      1    2  first quarter           NaN 2020-01-02\n",
       "2      1    3            NaN           NaN 2020-01-03\n",
       "3      1    4            NaN           NaN 2020-01-04\n",
       "4      1    5            NaN           NaN 2020-01-05"
      ]
     },
     "execution_count": 70,
     "metadata": {},
     "output_type": "execute_result"
    }
   ],
   "source": [
    "import numpy as np\n",
    "import pandas as pd\n",
    "\n",
    "meteor_showers = pd.read_csv('data/meteorshowers.csv')\n",
    "moon_phases = pd.read_csv('data/moonphases.csv')\n",
    "cities = pd.read_csv('data/cities.csv')\n",
    "constellations = pd.read_csv('data/constellations.csv')\n",
    "\n",
    "months = {'january':1, 'february':2, 'march':3, 'april':4, 'may':5, 'june':6, 'july':7, 'august':8, 'september':9, 'october':10, 'november':11, 'december':12}\n",
    "meteor_showers.Best_Month = meteor_showers.Best_Month.map(months)\n",
    "meteor_showers.Start_Month = meteor_showers.Start_Month.map(months)\n",
    "meteor_showers.End_Month = meteor_showers.End_Month.map(months)\n",
    "moon_phases.Month = moon_phases.Month.map(months)\n",
    "constellations.Best_Month = constellations.Best_Month.map(months)\n",
    "\n",
    "meteor_showers['Start Date'] = pd.to_datetime(2020 * 10000 + meteor_showers.Start_Month * 100 + meteor_showers.Start_Day, format = '%Y%m%d')\n",
    "meteor_showers['End Date'] = pd.to_datetime(2020 * 10000 + meteor_showers.Start_Month * 100 + meteor_showers.Start_Day, format = '%Y%m%d')\n",
    "moon_phases['Date'] = pd.to_datetime(2020 * 10000 + moon_phases.Month * 100 + moon_phases.Day, format = '%Y%m%d')\n",
    "\n",
    "meteor_showers.head()\n",
    "moon_phases.head()\n"
   ]
  },
  {
   "cell_type": "markdown",
   "metadata": {},
   "source": [
    "#### Exercise 2.9"
   ]
  },
  {
   "cell_type": "code",
   "execution_count": 71,
   "metadata": {},
   "outputs": [
    {
     "data": {
      "text/html": [
       "<div>\n",
       "<style scoped>\n",
       "    .dataframe tbody tr th:only-of-type {\n",
       "        vertical-align: middle;\n",
       "    }\n",
       "\n",
       "    .dataframe tbody tr th {\n",
       "        vertical-align: top;\n",
       "    }\n",
       "\n",
       "    .dataframe thead th {\n",
       "        text-align: right;\n",
       "    }\n",
       "</style>\n",
       "<table border=\"1\" class=\"dataframe\">\n",
       "  <thead>\n",
       "    <tr style=\"text-align: right;\">\n",
       "      <th></th>\n",
       "      <th>Constellation</th>\n",
       "      <th>Best_Month</th>\n",
       "      <th>Latitude_Start</th>\n",
       "      <th>Latitude_End</th>\n",
       "      <th>Best_Time</th>\n",
       "      <th>Hemisphere</th>\n",
       "    </tr>\n",
       "  </thead>\n",
       "  <tbody>\n",
       "    <tr>\n",
       "      <th>0</th>\n",
       "      <td>Lyra</td>\n",
       "      <td>8</td>\n",
       "      <td>90</td>\n",
       "      <td>-40</td>\n",
       "      <td>21:00</td>\n",
       "      <td>NaN</td>\n",
       "    </tr>\n",
       "    <tr>\n",
       "      <th>1</th>\n",
       "      <td>Aquarius</td>\n",
       "      <td>10</td>\n",
       "      <td>65</td>\n",
       "      <td>-90</td>\n",
       "      <td>21:00</td>\n",
       "      <td>NaN</td>\n",
       "    </tr>\n",
       "    <tr>\n",
       "      <th>2</th>\n",
       "      <td>Orion</td>\n",
       "      <td>1</td>\n",
       "      <td>85</td>\n",
       "      <td>-75</td>\n",
       "      <td>21:00</td>\n",
       "      <td>NaN</td>\n",
       "    </tr>\n",
       "    <tr>\n",
       "      <th>3</th>\n",
       "      <td>Perseus</td>\n",
       "      <td>12</td>\n",
       "      <td>90</td>\n",
       "      <td>-35</td>\n",
       "      <td>21:00</td>\n",
       "      <td>NaN</td>\n",
       "    </tr>\n",
       "    <tr>\n",
       "      <th>4</th>\n",
       "      <td>Leo</td>\n",
       "      <td>4</td>\n",
       "      <td>90</td>\n",
       "      <td>65</td>\n",
       "      <td>21:00</td>\n",
       "      <td>NaN</td>\n",
       "    </tr>\n",
       "  </tbody>\n",
       "</table>\n",
       "</div>"
      ],
      "text/plain": [
       "  Constellation  Best_Month  Latitude_Start  Latitude_End Best_Time  \\\n",
       "0          Lyra           8              90           -40     21:00   \n",
       "1      Aquarius          10              65           -90     21:00   \n",
       "2         Orion           1              85           -75     21:00   \n",
       "3       Perseus          12              90           -35     21:00   \n",
       "4           Leo           4              90            65     21:00   \n",
       "\n",
       "   Hemisphere  \n",
       "0         NaN  \n",
       "1         NaN  \n",
       "2         NaN  \n",
       "3         NaN  \n",
       "4         NaN  "
      ]
     },
     "execution_count": 71,
     "metadata": {},
     "output_type": "execute_result"
    }
   ],
   "source": [
    "import numpy as np\n",
    "import pandas as pd\n",
    "\n",
    "meteor_showers = pd.read_csv('data/meteorshowers.csv')\n",
    "moon_phases = pd.read_csv('data/moonphases.csv')\n",
    "cities = pd.read_csv('data/cities.csv')\n",
    "constellations = pd.read_csv('data/constellations.csv')\n",
    "\n",
    "months = {'january':1, 'february':2, 'march':3, 'april':4, 'may':5, 'june':6, 'july':7, 'august':8, 'september':9, 'october':10, 'november':11, 'december':12}\n",
    "meteor_showers.Best_Month = meteor_showers.Best_Month.map(months)\n",
    "meteor_showers.Start_Month = meteor_showers.Start_Month.map(months)\n",
    "meteor_showers.End_Month = meteor_showers.End_Month.map(months)\n",
    "moon_phases.Month = moon_phases.Month.map(months)\n",
    "constellations.Best_Month = constellations.Best_Month.map(months)\n",
    "\n",
    "meteor_showers['Start Date'] = pd.to_datetime(2020 * 10000 + meteor_showers.Start_Month * 100 + meteor_showers.Start_Day, format = '%Y%m%d')\n",
    "meteor_showers['End Date'] = pd.to_datetime(2020 * 10000 + meteor_showers.End_Month * 100 + meteor_showers.End_Day, format = '%Y%m%d')\n",
    "\n",
    "moon_phases['Date'] = pd.to_datetime(2020 * 10000 + moon_phases.Month * 100 + moon_phases.Day, format = '%Y%m%d')\n",
    "\n",
    "hemispheres = {'northern':0, 'southern':1, 'northern, southern':3}\n",
    "meteor_showers.Hemisphere = meteor_showers.Hemisphere.map(hemispheres)\n",
    "constellations.Hemisphere = constellations.Hemisphere.map(hemispheres)\n",
    "\n",
    "meteor_showers.head()\n",
    "constellations.head()"
   ]
  },
  {
   "cell_type": "markdown",
   "metadata": {},
   "source": [
    "#### Exercise 2.10"
   ]
  },
  {
   "cell_type": "code",
   "execution_count": 72,
   "metadata": {},
   "outputs": [
    {
     "data": {
      "text/html": [
       "<div>\n",
       "<style scoped>\n",
       "    .dataframe tbody tr th:only-of-type {\n",
       "        vertical-align: middle;\n",
       "    }\n",
       "\n",
       "    .dataframe tbody tr th {\n",
       "        vertical-align: top;\n",
       "    }\n",
       "\n",
       "    .dataframe thead th {\n",
       "        text-align: right;\n",
       "    }\n",
       "</style>\n",
       "<table border=\"1\" class=\"dataframe\">\n",
       "  <thead>\n",
       "    <tr style=\"text-align: right;\">\n",
       "      <th></th>\n",
       "      <th>Month</th>\n",
       "      <th>Day</th>\n",
       "      <th>Moon_Phase</th>\n",
       "      <th>Special_Event</th>\n",
       "      <th>Date</th>\n",
       "      <th>Percentages</th>\n",
       "    </tr>\n",
       "  </thead>\n",
       "  <tbody>\n",
       "    <tr>\n",
       "      <th>0</th>\n",
       "      <td>1</td>\n",
       "      <td>1</td>\n",
       "      <td>NaN</td>\n",
       "      <td>NaN</td>\n",
       "      <td>2020-01-01</td>\n",
       "      <td>NaN</td>\n",
       "    </tr>\n",
       "    <tr>\n",
       "      <th>1</th>\n",
       "      <td>1</td>\n",
       "      <td>2</td>\n",
       "      <td>first quarter</td>\n",
       "      <td>NaN</td>\n",
       "      <td>2020-01-02</td>\n",
       "      <td>0.5</td>\n",
       "    </tr>\n",
       "    <tr>\n",
       "      <th>2</th>\n",
       "      <td>1</td>\n",
       "      <td>3</td>\n",
       "      <td>NaN</td>\n",
       "      <td>NaN</td>\n",
       "      <td>2020-01-03</td>\n",
       "      <td>NaN</td>\n",
       "    </tr>\n",
       "    <tr>\n",
       "      <th>3</th>\n",
       "      <td>1</td>\n",
       "      <td>4</td>\n",
       "      <td>NaN</td>\n",
       "      <td>NaN</td>\n",
       "      <td>2020-01-04</td>\n",
       "      <td>NaN</td>\n",
       "    </tr>\n",
       "    <tr>\n",
       "      <th>4</th>\n",
       "      <td>1</td>\n",
       "      <td>5</td>\n",
       "      <td>NaN</td>\n",
       "      <td>NaN</td>\n",
       "      <td>2020-01-05</td>\n",
       "      <td>NaN</td>\n",
       "    </tr>\n",
       "  </tbody>\n",
       "</table>\n",
       "</div>"
      ],
      "text/plain": [
       "   Month  Day     Moon_Phase Special_Event       Date  Percentages\n",
       "0      1    1            NaN           NaN 2020-01-01          NaN\n",
       "1      1    2  first quarter           NaN 2020-01-02          0.5\n",
       "2      1    3            NaN           NaN 2020-01-03          NaN\n",
       "3      1    4            NaN           NaN 2020-01-04          NaN\n",
       "4      1    5            NaN           NaN 2020-01-05          NaN"
      ]
     },
     "execution_count": 72,
     "metadata": {},
     "output_type": "execute_result"
    }
   ],
   "source": [
    "import numpy as np\n",
    "import pandas as pd\n",
    "\n",
    "meteor_showers = pd.read_csv('data/meteorshowers.csv')\n",
    "moon_phases = pd.read_csv('data/moonphases.csv')\n",
    "cities = pd.read_csv('data/cities.csv')\n",
    "constellations = pd.read_csv('data/constellations.csv')\n",
    "\n",
    "months = {'january':1, 'february':2, 'march':3, 'april':4, 'may':5, 'june':6, 'july':7, 'august':8, 'september':9, 'october':10, 'november':11, 'december':12}\n",
    "meteor_showers.Best_Month = meteor_showers.Best_Month.map(months)\n",
    "meteor_showers.Start_Month = meteor_showers.Start_Month.map(months)\n",
    "meteor_showers.End_Month = meteor_showers.End_Month.map(months)\n",
    "moon_phases.Month = moon_phases.Month.map(months)\n",
    "constellations.Best_Month = constellations.Best_Month.map(months)\n",
    "\n",
    "meteor_showers['Start Date'] = pd.to_datetime(2020 * 10000 + meteor_showers.Start_Month * 100 + meteor_showers.Start_Day, format = '%Y%m%d')\n",
    "meteor_showers['End Date'] = pd.to_datetime(2020 * 10000 + meteor_showers.End_Month * 100 + meteor_showers.End_Day, format = '%Y%m%d')\n",
    "\n",
    "moon_phases['Date'] = pd.to_datetime(2020 * 10000 + moon_phases.Month * 100 + moon_phases.Day, format = '%Y%m%d')\n",
    "\n",
    "hemispheres = {'northern':0, 'southern':1, 'northern, southern':3}\n",
    "meteor_showers.Hemisphere = meteor_showers.Hemisphere.map(hemispheres)\n",
    "constellations.Hemisphere = constellations.Hemisphere.map(hemispheres)\n",
    "\n",
    "phases = {'new moon':0,'third quarter':0.5, 'first quarter':0.5,'full moon':1.0}\n",
    "moon_phases['Percentages'] = moon_phases.Moon_Phase.map(phases)\n",
    "\n",
    "moon_phases.head()"
   ]
  },
  {
   "cell_type": "markdown",
   "metadata": {},
   "source": [
    "#### Exercise 2.11\n",
    "<font size=\"2\">**Remove unnecessary data.** Some of the data from these .csv files isn't useful.</font>"
   ]
  },
  {
   "cell_type": "code",
   "execution_count": 73,
   "metadata": {},
   "outputs": [
    {
     "name": "stdout",
     "output_type": "stream",
     "text": [
      "<class 'pandas.core.frame.DataFrame'>\n",
      "RangeIndex: 366 entries, 0 to 365\n",
      "Data columns (total 2 columns):\n",
      " #   Column      Non-Null Count  Dtype         \n",
      "---  ------      --------------  -----         \n",
      " 0   Date        366 non-null    datetime64[ns]\n",
      " 1   Percentage  50 non-null     float64       \n",
      "dtypes: datetime64[ns](1), float64(1)\n",
      "memory usage: 5.8 KB\n"
     ]
    }
   ],
   "source": [
    "import numpy as np\n",
    "import pandas as pd\n",
    "\n",
    "meteor_showers = pd.read_csv('data/meteorshowers.csv')\n",
    "moon_phases = pd.read_csv('data/moonphases.csv')\n",
    "cities = pd.read_csv('data/cities.csv')\n",
    "constellations = pd.read_csv('data/constellations.csv')\n",
    "\n",
    "months = {'january':1, 'february':2, 'march':3, 'april':4, 'may':5, 'june':6, 'july':7, 'august':8, 'september':9, 'october':10, 'november':11, 'december':12}\n",
    "meteor_showers.Best_Month = meteor_showers.Best_Month.map(months)\n",
    "meteor_showers.Start_Month = meteor_showers.Start_Month.map(months)\n",
    "meteor_showers.End_Month = meteor_showers.End_Month.map(months)\n",
    "moon_phases.Month = moon_phases.Month.map(months)\n",
    "constellations.Best_Month = constellations.Best_Month.map(months)\n",
    "\n",
    "meteor_showers['Start Date'] = pd.to_datetime(2020 * 10000 + meteor_showers.Start_Month * 100 + meteor_showers.Start_Day, format = '%Y%m%d')\n",
    "meteor_showers['End Date'] = pd.to_datetime(2020 * 10000 + meteor_showers.End_Month * 100 + meteor_showers.End_Day, format = '%Y%m%d')\n",
    "\n",
    "moon_phases['Date'] = pd.to_datetime(2020 * 10000 + moon_phases.Month * 100 + moon_phases.Day, format = '%Y%m%d')\n",
    "\n",
    "hemispheres = {'northern':0, 'southern':1, 'northern, southern':3}\n",
    "meteor_showers.Hemisphere = meteor_showers.Hemisphere.map(hemispheres)\n",
    "constellations.Hemisphere = constellations.Hemisphere.map(hemispheres)\n",
    "\n",
    "phases = {'new moon':0,'third quarter':0.5, 'first quarter':0.5,'full moon':1.0}\n",
    "moon_phases['Percentage'] = moon_phases.Moon_Phase.map(phases)\n",
    "\n",
    "meteor_showers = meteor_showers.drop(['Start_Month','Start_Day','End_Month', 'End_Day', 'Hemisphere'], axis = 1)\n",
    "moon_phases = moon_phases.drop(['Month','Day','Moon_Phase','Special_Event'], axis = 1)\n",
    "constellations = constellations.drop(['Best_Time'], axis = 1)\n",
    "\n",
    "moon_phases.info()"
   ]
  },
  {
   "cell_type": "markdown",
   "metadata": {},
   "source": [
    "#### Exercise 2.12\n",
    "<font size=\"2\">You see that the cycle of the Moon phases goes from 0 to 0.5 to 1 to 0.5 and then back to 0. So, you could conceivably make every value between 0 and 0.5 be 0.25. And you could make every value between 0.5 and 1 be 0.75.\n",
    "\n",
    "You could get more detailed by figuring out a more accurate percentage on your own:\n",
    "\n",
    "1. Create a variable to save the last phase that you saw.\n",
    "\n",
    "2. Loop through each row and column in the **_moon_phases_** DataFrame.\n",
    "\n",
    "3. If the value in the percentage column of a row is NaN (null), then replace it with the last phase that you saw.\n",
    "\n",
    "4. If the value isn't NaN, then save the value as the last phase that you saw.\n",
    "\n",
    "5. Show the info for the **_moon_phases_** DataFrame: </font>"
   ]
  },
  {
   "cell_type": "code",
   "execution_count": 74,
   "metadata": {},
   "outputs": [
    {
     "name": "stdout",
     "output_type": "stream",
     "text": [
      "<class 'pandas.core.frame.DataFrame'>\n",
      "RangeIndex: 366 entries, 0 to 365\n",
      "Data columns (total 2 columns):\n",
      " #   Column      Non-Null Count  Dtype         \n",
      "---  ------      --------------  -----         \n",
      " 0   Date        366 non-null    datetime64[ns]\n",
      " 1   Percentage  366 non-null    float64       \n",
      "dtypes: datetime64[ns](1), float64(1)\n",
      "memory usage: 5.8 KB\n"
     ]
    }
   ],
   "source": [
    "import numpy as  np\n",
    "import pandas as pd\n",
    "\n",
    "meteor_showers = pd.read_csv('data/meteorshowers.csv')\n",
    "moon_phases = pd.read_csv('data/moonphases.csv')\n",
    "cities = pd.read_csv('data/cities.csv')\n",
    "constellations = pd.read_csv('data/constellations.csv')\n",
    "\n",
    "months = {'january':1, 'february':2, 'march':3, 'april':4, 'may':5, 'june':6, 'july':7, 'august':8, 'september':9, 'october':10, 'november':11, 'december':12}\n",
    "meteor_showers.Best_Month = meteor_showers.Best_Month.map(months)\n",
    "meteor_showers.Start_Month = meteor_showers.Start_Month.map(months)\n",
    "meteor_showers.End_Month = meteor_showers.End_Month.map(months)\n",
    "moon_phases.Month = moon_phases.Month.map(months)\n",
    "constellations.Best_Month = constellations.Best_Month.map(months)\n",
    "\n",
    "meteor_showers['Start Date'] = pd.to_datetime(2020 * 10000 + meteor_showers.Start_Month * 100 + meteor_showers.Start_Day, format = '%Y%m%d')\n",
    "meteor_showers['End Date'] = pd.to_datetime(2020 * 10000 + meteor_showers.End_Month * 100 + meteor_showers.End_Day, format = '%Y%m%d')\n",
    "\n",
    "moon_phases['Date'] = pd.to_datetime(2020 * 10000 + moon_phases.Month * 100 + moon_phases.Day, format = '%Y%m%d')\n",
    "\n",
    "hemispheres = {'northern':0, 'southern':1, 'northern, southern':3}\n",
    "meteor_showers.Hemisphere = meteor_showers.Hemisphere.map(hemispheres)\n",
    "constellations.Hemisphere = constellations.Hemisphere.map(hemispheres)\n",
    "\n",
    "phases = {'new moon':0,'third quarter':0.5, 'first quarter':0.5,'full moon':1.0}\n",
    "moon_phases['Percentage'] = moon_phases.Moon_Phase.map(phases)\n",
    "\n",
    "meteor_showers = meteor_showers.drop(['Start_Month', 'Start_Day', 'End_Month', 'End_Day', 'Hemisphere'], axis = 1)\n",
    "moon_phases = moon_phases.drop(['Month', 'Day', 'Moon_Phase', 'Special_Event'], axis = 1)\n",
    "constellations = constellations.drop(['Best_Time'], axis = 1)\n",
    "\n",
    "lastPhase = 0\n",
    "\n",
    "for index, row in moon_phases.iterrows():\n",
    "    if pd.isnull(row['Percentage']):\n",
    "        moon_phases.at[index, 'Percentage'] = lastPhase\n",
    "    else:\n",
    "        lastPhase = row['Percentage']\n",
    "\n",
    "moon_phases.info()"
   ]
  },
  {
   "cell_type": "markdown",
   "metadata": {},
   "source": [
    "<font size=\"2\">Now your data is cleansed and ready to be analyzed!</font>"
   ]
  },
  {
   "cell_type": "markdown",
   "metadata": {},
   "source": [
    "### Exercise 3:  Write a predictor function - Part 1\n",
    "\n",
    "<font size=\"3\"> **Unit 6 of 10** </font>\n",
    "\n",
    "<font size=\"2\">Step by step process of **Exercise 3** can be found here: https://learn.microsoft.com/en-us/training/modules/predict-meteor-showers-using-python/6-start-search</font>\n",
    "\n",
    "-----\n",
    "<font size=\"2\">\n",
    "Now that you've cleaned up your datasets, you can begin to create a function that you'll use to make your prediction.<p>\n",
    "\n",
    "But first, make sure you know exactly what you want to predict: In a given city, on what date would you most likely see which meteor showers?<p>\n",
    "\n",
    "This module introduces a simplified way to examine data. Without using a lot of predictions, our method is a lot like a complex lookup table. You can later expand on the model with data like weather to make it more like a classical machine learning model.</font>"
   ]
  },
  {
   "cell_type": "markdown",
   "metadata": {},
   "source": [
    "#### Exercise 3.1\n",
    "\n",
    "<font size = \"3\">**Write the prediction function**</font><p>\n",
    "<font size = \"2\">_Let's review our four datasets:_</font>"
   ]
  },
  {
   "cell_type": "code",
   "execution_count": 75,
   "metadata": {},
   "outputs": [
    {
     "name": "stdout",
     "output_type": "stream",
     "text": [
      "<class 'pandas.core.frame.DataFrame'>\n",
      "RangeIndex: 366 entries, 0 to 365\n",
      "Data columns (total 2 columns):\n",
      " #   Column      Non-Null Count  Dtype         \n",
      "---  ------      --------------  -----         \n",
      " 0   Date        366 non-null    datetime64[ns]\n",
      " 1   Percentage  366 non-null    float64       \n",
      "dtypes: datetime64[ns](1), float64(1)\n",
      "memory usage: 5.8 KB\n"
     ]
    }
   ],
   "source": [
    "moon_phases.info()"
   ]
  },
  {
   "cell_type": "code",
   "execution_count": 76,
   "metadata": {},
   "outputs": [
    {
     "name": "stdout",
     "output_type": "stream",
     "text": [
      "<class 'pandas.core.frame.DataFrame'>\n",
      "RangeIndex: 5 entries, 0 to 4\n",
      "Data columns (total 6 columns):\n",
      " #   Column                Non-Null Count  Dtype         \n",
      "---  ------                --------------  -----         \n",
      " 0   Name                  5 non-null      object        \n",
      " 1   Radiant               5 non-null      object        \n",
      " 2   Best_Month            5 non-null      int64         \n",
      " 3   Preferred_Hemisphere  5 non-null      object        \n",
      " 4   Start Date            5 non-null      datetime64[ns]\n",
      " 5   End Date              5 non-null      datetime64[ns]\n",
      "dtypes: datetime64[ns](2), int64(1), object(3)\n",
      "memory usage: 372.0+ bytes\n"
     ]
    }
   ],
   "source": [
    "meteor_showers.info()"
   ]
  },
  {
   "cell_type": "code",
   "execution_count": 77,
   "metadata": {},
   "outputs": [
    {
     "name": "stdout",
     "output_type": "stream",
     "text": [
      "<class 'pandas.core.frame.DataFrame'>\n",
      "RangeIndex: 5 entries, 0 to 4\n",
      "Data columns (total 5 columns):\n",
      " #   Column          Non-Null Count  Dtype  \n",
      "---  ------          --------------  -----  \n",
      " 0   Constellation   5 non-null      object \n",
      " 1   Best_Month      5 non-null      int64  \n",
      " 2   Latitude_Start  5 non-null      int64  \n",
      " 3   Latitude_End    5 non-null      int64  \n",
      " 4   Hemisphere      0 non-null      float64\n",
      "dtypes: float64(1), int64(3), object(1)\n",
      "memory usage: 332.0+ bytes\n"
     ]
    }
   ],
   "source": [
    "constellations.info()"
   ]
  },
  {
   "cell_type": "code",
   "execution_count": 78,
   "metadata": {},
   "outputs": [
    {
     "name": "stdout",
     "output_type": "stream",
     "text": [
      "<class 'pandas.core.frame.DataFrame'>\n",
      "RangeIndex: 256 entries, 0 to 255\n",
      "Data columns (total 3 columns):\n",
      " #   Column    Non-Null Count  Dtype  \n",
      "---  ------    --------------  -----  \n",
      " 0   City      256 non-null    object \n",
      " 1   Latitude  256 non-null    float64\n",
      " 2   Country   256 non-null    object \n",
      "dtypes: float64(1), object(2)\n",
      "memory usage: 6.1+ KB\n"
     ]
    }
   ],
   "source": [
    "cities.info()"
   ]
  },
  {
   "cell_type": "markdown",
   "metadata": {},
   "source": [
    "<font size = \"2\">The function that we write needs to:\n",
    "\n",
    "1. Determine the latitude of a city.\n",
    "2. Use that latitude to figure out which constellations are visible to that city.\n",
    "3. Use the constellations to determine which meteor showers are visible to that city.\n",
    "4. Use the meteor showers to determine the dates that they're visible.\n",
    "5. Use the dates to find the optimal date that has the least amount of light from the Moon.\n",
    "\n",
    "**_Use these steps to build your function._**</font>"
   ]
  },
  {
   "cell_type": "markdown",
   "metadata": {},
   "source": [
    "#### Exercise 3.2"
   ]
  },
  {
   "cell_type": "code",
   "execution_count": 79,
   "metadata": {},
   "outputs": [],
   "source": [
    "def predict_best_meteor_shower_viewing(city):\n",
    "    # Get the latitude of the city from the cities DataFrame\n",
    "    latitude = cities.loc[cities['City'] == city,'Latitude'].iloc[0]"
   ]
  },
  {
   "cell_type": "markdown",
   "metadata": {},
   "source": [
    "#### Exercise 3.3\n",
    "\n",
    "<font size = \"4\">**cities['City'] == '[name of city]'**</font>\n",
    "\n",
    "<font size = \"2\">The **cities['city'] == [name of city]** line of code creates a list of true and false values. **True** *__will be on the row where the city is equal to the city that's passed in as a parameter.__*</font>"
   ]
  },
  {
   "cell_type": "code",
   "execution_count": 80,
   "metadata": {},
   "outputs": [
    {
     "name": "stdout",
     "output_type": "stream",
     "text": [
      "0      False\n",
      "1       True\n",
      "2      False\n",
      "3      False\n",
      "4      False\n",
      "       ...  \n",
      "251    False\n",
      "252    False\n",
      "253    False\n",
      "254    False\n",
      "255    False\n",
      "Name: City, Length: 256, dtype: bool\n"
     ]
    }
   ],
   "source": [
    "def predict_best_meteor_shower_viewing(city):\n",
    "    # Get the latitude of the city from the cities DataFrame\n",
    "    latitude = cities.loc[cities['City'] == city, 'Latitude'].iloc[0]\n",
    "\n",
    "print(cities['City'] == 'Abuja')"
   ]
  },
  {
   "cell_type": "markdown",
   "metadata": {},
   "source": [
    "#### Exercise 3.4\n",
    "\n",
    "<font size = \"4\">**cities.loc[cities['City'] == '[name of city]']**</font>\n",
    "\n",
    "<font size = \"2\">The **cities.loc[cities['city'] == '[name of city]']** line of code returns the rows where the preceding true or false value is **True**. **_In this case, only one row is returned because our cities DataFrame has one row for each city._**"
   ]
  },
  {
   "cell_type": "code",
   "execution_count": 81,
   "metadata": {},
   "outputs": [
    {
     "name": "stdout",
     "output_type": "stream",
     "text": [
      "       City  Latitude      Country\n",
      "126  Manila     14.58  Philippines\n"
     ]
    }
   ],
   "source": [
    "def predict_best_meteor_shower_viewing(city):\n",
    "    # Get the latitude of the city from the cities DataFrame\n",
    "    latitude = cities.loc[cities['City'] == city, 'Latitude'].iloc[0]\n",
    "\n",
    "print(cities.loc[cities['City'] == 'Manila'])"
   ]
  },
  {
   "cell_type": "markdown",
   "metadata": {},
   "source": [
    "#### Exercise 3.5\n",
    "\n",
    "<font size = \"4\">**cities.loc[cities['City'] == '[name of city]', 'Latitude']**</font>\n",
    "\n",
    "<font size = \"2\">The **cities.loc[cities['City'] == '[name of city]', 'Latitude']** line of **_code returns only the latitude column._** It doesn't return the entire row."
   ]
  },
  {
   "cell_type": "code",
   "execution_count": 82,
   "metadata": {},
   "outputs": [
    {
     "name": "stdout",
     "output_type": "stream",
     "text": [
      "44    30.05\n",
      "Name: Latitude, dtype: float64\n"
     ]
    }
   ],
   "source": [
    "def predict_best_meteor_shower_viewing(city):\n",
    "    # Get the latitude of the city from cities DataFrame\n",
    "    latitude = cities.loc[cities['City'] == city, 'Latitude'].iloc[0]\n",
    "\n",
    "print(cities.loc[cities['City'] == 'Cairo', 'Latitude'])"
   ]
  },
  {
   "cell_type": "markdown",
   "metadata": {},
   "source": [
    "#### Exercise 3.6\n",
    "\n",
    "<font size = \"4\">**latitude = cities.loc[cities['City'] == '[name of city]', 'Latitude'].iloc[0]**</font>\n",
    "\n",
    "<font size = \"2\">Finally, *__the entire line of code returns the specific value of that column at row 0__*:</font>"
   ]
  },
  {
   "cell_type": "code",
   "execution_count": 83,
   "metadata": {},
   "outputs": [
    {
     "name": "stdout",
     "output_type": "stream",
     "text": [
      "14.58\n"
     ]
    }
   ],
   "source": [
    "def predict_best_meteor_shower_viewing(city):\n",
    "    # Get the latitude of the city from cities DataFrame\n",
    "    latitude = cities.loc[cities['City'] == city, 'Latitude'].iloc[0]\n",
    "\n",
    "print(cities.loc[cities['City'] == 'Manila', 'Latitude'].iloc[0])"
   ]
  },
  {
   "cell_type": "markdown",
   "metadata": {},
   "source": [
    "#### Exercise 3.6\n",
    "\n",
    "<font size = \"3\">**Call the function**</font>\n",
    "\n",
    "<font size = \"2\">Now that you have a value, test your function to make sure it's working as you expect it to. Return the current value, and then call the function:</font>"
   ]
  },
  {
   "cell_type": "code",
   "execution_count": 84,
   "metadata": {},
   "outputs": [],
   "source": [
    "def predict_best_meteor_shower_viewing(city):\n",
    "    # Get the latitude of the city from cities DataFrame\n",
    "    latitude = cities.loc[cities['City'] == city, 'Latitude'].iloc[0]\n",
    "\n",
    "    return latitude"
   ]
  },
  {
   "cell_type": "code",
   "execution_count": 85,
   "metadata": {},
   "outputs": [
    {
     "name": "stdout",
     "output_type": "stream",
     "text": [
      "51.5\n"
     ]
    }
   ],
   "source": [
    "def predict_best_meteor_shower_viewing(city):\n",
    "    # Get the latitude of the city from cities DataFrame\n",
    "    latitude = cities.loc[cities['City'] == city, 'Latitude'].iloc[0]\n",
    "\n",
    "    return latitude\n",
    "\n",
    "print(predict_best_meteor_shower_viewing('London'))"
   ]
  },
  {
   "cell_type": "markdown",
   "metadata": {},
   "source": [
    "### Exercise 4:  Write a predictor function - Part 2\n",
    "\n",
    "<font size=\"3\"> **Unit 7 of 10** </font>\n",
    "\n",
    "<font size=\"2\">Step by step process of **Exercise 4** can be found here: https://learn.microsoft.com/en-us/training/modules/predict-meteor-showers-using-python/7-continue-search</font>\n",
    "\n",
    "-----\n",
    "<font size=\"2\"> As a reminder, we're following these steps to *__find the optimal date to view meteor showers in a particular capital/major city:__*\n",
    "\n",
    "1. Determine the latitude of the city.\n",
    "2. Use that latitude to figure out which constellations are visible to that city.\n",
    "3. Use the constellations to determine which meteor showers are visible to that city.\n",
    "4. Use the meteor showers to determine the dates that they're visible.\n",
    "5. Use the dates to find the optimal date that has the least amount of light from the Moon.\n",
    "\n",
    "</font>"
   ]
  },
  {
   "cell_type": "markdown",
   "metadata": {},
   "source": [
    "#### Exercise 4.1\n",
    "\n",
    "<font size = \"3\">**Use latitude to determine constellation**</font>\n",
    "\n",
    "<font size = \"2\">Now that we have a city latitude, the next step is to *__use the latitude to determine which constellations are viewable in the city.__*</font>"
   ]
  },
  {
   "cell_type": "code",
   "execution_count": 87,
   "metadata": {},
   "outputs": [],
   "source": [
    "def predict_best_meteor_shower_viewing(city):\n",
    "    # Get the latitude of the city from the cities DataFrame\n",
    "    latitude = cities.loc[cities['City'] == city, 'Latitude'].iloc[0]\n",
    "\n",
    "    # Get the list of constellations that are viewable from that latitude\n",
    "    constellation_list = constellations.loc[(constellations['Latitude_Start'] >= latitude) & (constellations['Latitude_End'] <= latitude), 'Constellation'].tolist()"
   ]
  },
  {
   "cell_type": "code",
   "execution_count": 86,
   "metadata": {},
   "outputs": [
    {
     "name": "stdout",
     "output_type": "stream",
     "text": [
      "['Lyra', 'Aquarius', 'Orion', 'Perseus']\n"
     ]
    }
   ],
   "source": [
    "def predict_best_meteor_shower_viewing(city):\n",
    "    # Get the latitude of the city from the cities DataFrame\n",
    "    latitude = cities.loc[cities['City'] == city, 'Latitude'].iloc[0]\n",
    "\n",
    "    # Get the list of constellations that are viewable from that latitude\n",
    "    constellation_list = constellations.loc[(constellations['Latitude_Start'] >= latitude) & (constellations['Latitude_End'] <= latitude), 'Constellation'].tolist()\n",
    "    \n",
    "    return constellation_list\n",
    "\n",
    "print(predict_best_meteor_shower_viewing('Manila'))"
   ]
  },
  {
   "cell_type": "markdown",
   "metadata": {},
   "source": [
    "#### Exercise 4.2\n",
    "\n",
    "<font size = \"3\">**Create an output string**</font>\n",
    "\n",
    "<font size = \"2\">Before continuing through the data dive, **_create a string that will contain all of the meteor showers viewable from that city. Include the best dates to view the meteor showers._**<p>\n",
    "\n",
    "At this point, we can also account for the fact that we aren't representing all cities or all constellations. So some user inputs could result in errors. To the top of your function, add the following conditional statement:</font>"
   ]
  },
  {
   "cell_type": "code",
   "execution_count": null,
   "metadata": {},
   "outputs": [],
   "source": []
  }
 ],
 "metadata": {
  "kernelspec": {
   "display_name": "Python 3",
   "language": "python",
   "name": "python3"
  },
  "language_info": {
   "codemirror_mode": {
    "name": "ipython",
    "version": 3
   },
   "file_extension": ".py",
   "mimetype": "text/x-python",
   "name": "python",
   "nbconvert_exporter": "python",
   "pygments_lexer": "ipython3",
   "version": "3.11.5"
  },
  "orig_nbformat": 4
 },
 "nbformat": 4,
 "nbformat_minor": 2
}
